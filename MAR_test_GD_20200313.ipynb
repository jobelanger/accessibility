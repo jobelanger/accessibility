{
 "cells": [
  {
   "cell_type": "code",
   "execution_count": 1,
   "metadata": {},
   "outputs": [],
   "source": [
    "# load and filter osm network (step 1)\n",
    "import geopandas as gpd\n",
    "import pandas as pd\n",
    "import os, sys, time\n",
    "import GOSTnet as gn\n",
    "import networkx as nx\n",
    "import osmnx as ox\n",
    "from shapely.ops import unary_union\n",
    "from shapely.wkt import loads\n",
    "from shapely.geometry import LineString, MultiLineString, Point"
   ]
  },
  {
   "cell_type": "code",
   "execution_count": 2,
   "metadata": {},
   "outputs": [
    {
     "data": {
      "text/plain": [
       "'C:\\\\Users\\\\grace\\\\GIS\\\\puerto rico'"
      ]
     },
     "execution_count": 2,
     "metadata": {},
     "output_type": "execute_result"
    }
   ],
   "source": [
    "GISFolder = os.getcwd()\n",
    "GISFolder"
   ]
  },
  {
   "cell_type": "code",
   "execution_count": 3,
   "metadata": {},
   "outputs": [
    {
     "data": {
      "text/plain": [
       "'C:\\\\Users\\\\grace\\\\GIS\\\\puerto rico\\\\morocco_data'"
      ]
     },
     "execution_count": 3,
     "metadata": {},
     "output_type": "execute_result"
    }
   ],
   "source": [
    "pth = os.path.join(GISFolder, \"morocco_data\")\n",
    "pth"
   ]
  },
  {
   "cell_type": "code",
   "execution_count": null,
   "metadata": {},
   "outputs": [],
   "source": [
    "# original from Jo\n",
    "# osm pbf last downloaded on: 02.17.20\n",
    "fil = r'morocco-latest.osm.pbf'\n",
    "f = os.path.join(pth, fil)\n",
    "f\n",
    "\n",
    "import load_osm as losm\n",
    "mar = losm.OSM_to_network(f)"
   ]
  },
  {
   "cell_type": "code",
   "execution_count": 4,
   "metadata": {},
   "outputs": [],
   "source": [
    "aoi = r'tinghir_bounding84.shp' \n",
    "# Created a rectangular bounding box (in QGIS) to use as the AOI"
   ]
  },
  {
   "cell_type": "code",
   "execution_count": 5,
   "metadata": {},
   "outputs": [
    {
     "data": {
      "image/svg+xml": [
       "<svg xmlns=\"http://www.w3.org/2000/svg\" xmlns:xlink=\"http://www.w3.org/1999/xlink\" width=\"100.0\" height=\"100.0\" viewBox=\"-7.242316747888701 30.12837890478802 3.237899680757585 2.6192986033460492\" preserveAspectRatio=\"xMinYMin meet\"><g transform=\"matrix(1,0,0,-1,0,62.87605641292208)\"><path fill-rule=\"evenodd\" fill=\"#66cc99\" stroke=\"#555555\" stroke-width=\"0.06475799361515171\" opacity=\"0.6\" d=\"M -4.124339277529545,31.973013424141406 L -4.881303952809314,30.248301115186447 L -7.122394537490272,30.906935836250714 L -6.363648924470986,32.62775529773564 L -4.124339277529545,31.973013424141406 z\" /></g></svg>"
      ],
      "text/plain": [
       "<shapely.geometry.polygon.Polygon at 0x2837c128da0>"
      ]
     },
     "execution_count": 5,
     "metadata": {},
     "output_type": "execute_result"
    }
   ],
   "source": [
    "shp = gpd.read_file(os.path.join(pth, aoi))\n",
    "bound = shp.geometry.iloc[0]\n",
    "bound # Check that the shape looks right"
   ]
  },
  {
   "cell_type": "code",
   "execution_count": 14,
   "metadata": {},
   "outputs": [
    {
     "name": "stdout",
     "output_type": "stream",
     "text": [
      "^C\n"
     ]
    }
   ],
   "source": [
    "!conda install geopandas=0.6.3\n",
    "# Had type error on CRS argument in graph_from_polygon (below). Solution from StackOverflow: \n",
    "# Looks like Geopandas 0.7 updated their CRS object type to be a pyproj.CRS instead of a string. The osmnet library was having a similar issue. You can resolve this by reverting to an older version of geopandas:"
   ]
  },
  {
   "cell_type": "code",
   "execution_count": 6,
   "metadata": {},
   "outputs": [],
   "source": [
    "gDrive = ox.graph_from_polygon(bound, network_type= 'drive')"
   ]
  },
  {
   "cell_type": "code",
   "execution_count": null,
   "metadata": {},
   "outputs": [],
   "source": [
    "# create standard speed dict\n",
    "speedDict = {\n",
    "                'residential': 30,  # kmph\n",
    "                'primary': 60, # kmph\n",
    "                'primary_link':55,\n",
    "                'trunk': 40,\n",
    "                'trunk_link':35,\n",
    "                'secondary': 50, # kmph\n",
    "                'secondary_link':45,\n",
    "                'tertiary':40,\n",
    "                'tertiary_link': 35,\n",
    "                'unclassified':30, \n",
    "                'road':20,\n",
    "                'crossing':20,\n",
    "                'living_street':10\n",
    "    \n",
    "                } "
   ]
  },
  {
   "cell_type": "code",
   "execution_count": null,
   "metadata": {},
   "outputs": [],
   "source": [
    "# convert graph network to time. use factor of 1000 to convert from km to meters\n",
    "G_time = gn.convert_network_to_time(gDrive, \n",
    "                                    distance_tag = 'length', \n",
    "                                    speed_dict = speedDict, \n",
    "                                    factor = 1000)"
   ]
  },
  {
   "cell_type": "code",
   "execution_count": 13,
   "metadata": {},
   "outputs": [
    {
     "data": {
      "text/plain": [
       "'Name: unnamed\\nType: MultiDiGraph\\nNumber of nodes: 21527\\nNumber of edges: 61087\\nAverage in degree:   2.8377\\nAverage out degree:   2.8377'"
      ]
     },
     "execution_count": 13,
     "metadata": {},
     "output_type": "execute_result"
    }
   ],
   "source": [
    "nx.info(G_time)"
   ]
  },
  {
   "cell_type": "code",
   "execution_count": 19,
   "metadata": {},
   "outputs": [],
   "source": [
    "from shapely import geometry\n",
    "\n",
    "villages = os.path.join(GISFolder, \"morocco_data\", \"Tinghir_Villages.csv\")\n",
    "villages = pd.read_csv(villages)\n",
    "geometry = [Point(xy) for xy in zip(villages.XWGS84, villages.YWGS84)]"
   ]
  },
  {
   "cell_type": "code",
   "execution_count": null,
   "metadata": {},
   "outputs": [],
   "source": [
    "crs = {'init': 'epsg:4326'} \n",
    "villages = gpd.GeoDataFrame(villages, crs=crs, geometry=geometry)\n",
    "villages.to_file(driver='ESRI Shapefile', filename='villages84.shp') \n",
    "villages.info()"
   ]
  },
  {
   "cell_type": "code",
   "execution_count": 21,
   "metadata": {},
   "outputs": [
    {
     "data": {
      "text/html": [
       "<div>\n",
       "<style scoped>\n",
       "    .dataframe tbody tr th:only-of-type {\n",
       "        vertical-align: middle;\n",
       "    }\n",
       "\n",
       "    .dataframe tbody tr th {\n",
       "        vertical-align: top;\n",
       "    }\n",
       "\n",
       "    .dataframe thead th {\n",
       "        text-align: right;\n",
       "    }\n",
       "</style>\n",
       "<table border=\"1\" class=\"dataframe\">\n",
       "  <thead>\n",
       "    <tr style=\"text-align: right;\">\n",
       "      <th></th>\n",
       "      <th>X</th>\n",
       "      <th>Y</th>\n",
       "      <th>FID_1</th>\n",
       "      <th>PROVINCE</th>\n",
       "      <th>CODE_PRO</th>\n",
       "      <th>CERCLE</th>\n",
       "      <th>CODE_CER</th>\n",
       "      <th>COMMUNE</th>\n",
       "      <th>CODE_COM</th>\n",
       "      <th>FRACTION</th>\n",
       "      <th>...</th>\n",
       "      <th>PROVINCE_1</th>\n",
       "      <th>REGION</th>\n",
       "      <th>Com_Arabe</th>\n",
       "      <th>Cer_Arabe</th>\n",
       "      <th>Prov_Arabe</th>\n",
       "      <th>Reg_arabe</th>\n",
       "      <th>Code_COM_1</th>\n",
       "      <th>CODE_A</th>\n",
       "      <th>Shape_Leng</th>\n",
       "      <th>geometry</th>\n",
       "    </tr>\n",
       "  </thead>\n",
       "  <tbody>\n",
       "    <tr>\n",
       "      <th>0</th>\n",
       "      <td>846814.4513</td>\n",
       "      <td>3.461967e+06</td>\n",
       "      <td>4642</td>\n",
       "      <td>OUARZAZATE</td>\n",
       "      <td>401</td>\n",
       "      <td>BOUMALNE DADES</td>\n",
       "      <td>401.05</td>\n",
       "      <td>AIT EL FARSI</td>\n",
       "      <td>401.05.01</td>\n",
       "      <td>OUEDICHEN</td>\n",
       "      <td>...</td>\n",
       "      <td>TINGHIR</td>\n",
       "      <td>SOUSS - MASSA - DRAA</td>\n",
       "      <td>NaN</td>\n",
       "      <td>NaN</td>\n",
       "      <td>NaN</td>\n",
       "      <td>NaN</td>\n",
       "      <td>1</td>\n",
       "      <td>04.401.05.01</td>\n",
       "      <td>115992.504936</td>\n",
       "      <td>POINT (-5.35912 31.24042)</td>\n",
       "    </tr>\n",
       "    <tr>\n",
       "      <th>1</th>\n",
       "      <td>851811.8074</td>\n",
       "      <td>3.456718e+06</td>\n",
       "      <td>6455</td>\n",
       "      <td>OUARZAZATE</td>\n",
       "      <td>401</td>\n",
       "      <td>BOUMALNE DADES</td>\n",
       "      <td>401.05</td>\n",
       "      <td>AIT EL FARSI</td>\n",
       "      <td>401.05.01</td>\n",
       "      <td>OUEDICHEN</td>\n",
       "      <td>...</td>\n",
       "      <td>TINGHIR</td>\n",
       "      <td>SOUSS - MASSA - DRAA</td>\n",
       "      <td>NaN</td>\n",
       "      <td>NaN</td>\n",
       "      <td>NaN</td>\n",
       "      <td>NaN</td>\n",
       "      <td>1</td>\n",
       "      <td>04.401.05.01</td>\n",
       "      <td>115992.504936</td>\n",
       "      <td>POINT (-5.30858 31.19167)</td>\n",
       "    </tr>\n",
       "    <tr>\n",
       "      <th>2</th>\n",
       "      <td>850772.0843</td>\n",
       "      <td>3.476372e+06</td>\n",
       "      <td>11413</td>\n",
       "      <td>OUARZAZATE</td>\n",
       "      <td>401</td>\n",
       "      <td>BOUMALNE DADES</td>\n",
       "      <td>401.05</td>\n",
       "      <td>AIT EL FARSI</td>\n",
       "      <td>401.05.01</td>\n",
       "      <td>OUEDICHEN</td>\n",
       "      <td>...</td>\n",
       "      <td>TINGHIR</td>\n",
       "      <td>SOUSS - MASSA - DRAA</td>\n",
       "      <td>NaN</td>\n",
       "      <td>NaN</td>\n",
       "      <td>NaN</td>\n",
       "      <td>NaN</td>\n",
       "      <td>1</td>\n",
       "      <td>04.401.05.01</td>\n",
       "      <td>115992.504936</td>\n",
       "      <td>POINT (-5.31259 31.36894)</td>\n",
       "    </tr>\n",
       "    <tr>\n",
       "      <th>3</th>\n",
       "      <td>857317.9017</td>\n",
       "      <td>3.466820e+06</td>\n",
       "      <td>19798</td>\n",
       "      <td>OUARZAZATE</td>\n",
       "      <td>401</td>\n",
       "      <td>BOUMALNE DADES</td>\n",
       "      <td>401.05</td>\n",
       "      <td>AIT EL FARSI</td>\n",
       "      <td>401.05.01</td>\n",
       "      <td>OUEDICHEN</td>\n",
       "      <td>...</td>\n",
       "      <td>TINGHIR</td>\n",
       "      <td>SOUSS - MASSA - DRAA</td>\n",
       "      <td>NaN</td>\n",
       "      <td>NaN</td>\n",
       "      <td>NaN</td>\n",
       "      <td>NaN</td>\n",
       "      <td>1</td>\n",
       "      <td>04.401.05.01</td>\n",
       "      <td>115992.504936</td>\n",
       "      <td>POINT (-5.24732 31.28095)</td>\n",
       "    </tr>\n",
       "    <tr>\n",
       "      <th>4</th>\n",
       "      <td>853808.5600</td>\n",
       "      <td>3.476155e+06</td>\n",
       "      <td>21798</td>\n",
       "      <td>OUARZAZATE</td>\n",
       "      <td>401</td>\n",
       "      <td>BOUMALNE DADES</td>\n",
       "      <td>401.05</td>\n",
       "      <td>AIT EL FARSI</td>\n",
       "      <td>401.05.01</td>\n",
       "      <td>OUEDICHEN</td>\n",
       "      <td>...</td>\n",
       "      <td>TINGHIR</td>\n",
       "      <td>SOUSS - MASSA - DRAA</td>\n",
       "      <td>NaN</td>\n",
       "      <td>NaN</td>\n",
       "      <td>NaN</td>\n",
       "      <td>NaN</td>\n",
       "      <td>1</td>\n",
       "      <td>04.401.05.01</td>\n",
       "      <td>115992.504936</td>\n",
       "      <td>POINT (-5.28080 31.36607)</td>\n",
       "    </tr>\n",
       "  </tbody>\n",
       "</table>\n",
       "<p>5 rows × 58 columns</p>\n",
       "</div>"
      ],
      "text/plain": [
       "             X             Y  FID_1    PROVINCE  CODE_PRO          CERCLE  \\\n",
       "0  846814.4513  3.461967e+06   4642  OUARZAZATE       401  BOUMALNE DADES   \n",
       "1  851811.8074  3.456718e+06   6455  OUARZAZATE       401  BOUMALNE DADES   \n",
       "2  850772.0843  3.476372e+06  11413  OUARZAZATE       401  BOUMALNE DADES   \n",
       "3  857317.9017  3.466820e+06  19798  OUARZAZATE       401  BOUMALNE DADES   \n",
       "4  853808.5600  3.476155e+06  21798  OUARZAZATE       401  BOUMALNE DADES   \n",
       "\n",
       "   CODE_CER       COMMUNE   CODE_COM   FRACTION  ...  PROVINCE_1  \\\n",
       "0    401.05  AIT EL FARSI  401.05.01  OUEDICHEN  ...     TINGHIR   \n",
       "1    401.05  AIT EL FARSI  401.05.01  OUEDICHEN  ...     TINGHIR   \n",
       "2    401.05  AIT EL FARSI  401.05.01  OUEDICHEN  ...     TINGHIR   \n",
       "3    401.05  AIT EL FARSI  401.05.01  OUEDICHEN  ...     TINGHIR   \n",
       "4    401.05  AIT EL FARSI  401.05.01  OUEDICHEN  ...     TINGHIR   \n",
       "\n",
       "                 REGION  Com_Arabe Cer_Arabe Prov_Arabe  Reg_arabe  \\\n",
       "0  SOUSS - MASSA - DRAA        NaN       NaN        NaN        NaN   \n",
       "1  SOUSS - MASSA - DRAA        NaN       NaN        NaN        NaN   \n",
       "2  SOUSS - MASSA - DRAA        NaN       NaN        NaN        NaN   \n",
       "3  SOUSS - MASSA - DRAA        NaN       NaN        NaN        NaN   \n",
       "4  SOUSS - MASSA - DRAA        NaN       NaN        NaN        NaN   \n",
       "\n",
       "   Code_COM_1        CODE_A     Shape_Leng                   geometry  \n",
       "0           1  04.401.05.01  115992.504936  POINT (-5.35912 31.24042)  \n",
       "1           1  04.401.05.01  115992.504936  POINT (-5.30858 31.19167)  \n",
       "2           1  04.401.05.01  115992.504936  POINT (-5.31259 31.36894)  \n",
       "3           1  04.401.05.01  115992.504936  POINT (-5.24732 31.28095)  \n",
       "4           1  04.401.05.01  115992.504936  POINT (-5.28080 31.36607)  \n",
       "\n",
       "[5 rows x 58 columns]"
      ]
     },
     "execution_count": 21,
     "metadata": {},
     "output_type": "execute_result"
    }
   ],
   "source": [
    "villages.head()"
   ]
  },
  {
   "cell_type": "code",
   "execution_count": 23,
   "metadata": {},
   "outputs": [
    {
     "name": "stderr",
     "output_type": "stream",
     "text": [
      "C:\\Users\\grace\\GIS\\puerto rico\\GOSTnet.py:1637: FutureWarning: Method .as_matrix will be removed in a future version. Use .values instead.\n",
      "  G_tree = spatial.KDTree(node_gdf[['x','y']].as_matrix())\n",
      "C:\\Users\\grace\\GIS\\puerto rico\\GOSTnet.py:1639: FutureWarning: Method .as_matrix will be removed in a future version. Use .values instead.\n",
      "  distances, indices = G_tree.query(in_df[['x','y']].as_matrix())\n"
     ]
    }
   ],
   "source": [
    "villages_snap = gn.pandana_snap(G_time, \n",
    "                           villages, \n",
    "                           source_crs='epsg:4326', \n",
    "                           target_crs='epsg:4326', \n",
    "                           add_dist_to_node_col=True)"
   ]
  },
  {
   "cell_type": "code",
   "execution_count": 24,
   "metadata": {},
   "outputs": [
    {
     "data": {
      "text/html": [
       "<div>\n",
       "<style scoped>\n",
       "    .dataframe tbody tr th:only-of-type {\n",
       "        vertical-align: middle;\n",
       "    }\n",
       "\n",
       "    .dataframe tbody tr th {\n",
       "        vertical-align: top;\n",
       "    }\n",
       "\n",
       "    .dataframe thead th {\n",
       "        text-align: right;\n",
       "    }\n",
       "</style>\n",
       "<table border=\"1\" class=\"dataframe\">\n",
       "  <thead>\n",
       "    <tr style=\"text-align: right;\">\n",
       "      <th></th>\n",
       "      <th>X</th>\n",
       "      <th>Y</th>\n",
       "      <th>FID_1</th>\n",
       "      <th>PROVINCE</th>\n",
       "      <th>CODE_PRO</th>\n",
       "      <th>CERCLE</th>\n",
       "      <th>CODE_CER</th>\n",
       "      <th>COMMUNE</th>\n",
       "      <th>CODE_COM</th>\n",
       "      <th>FRACTION</th>\n",
       "      <th>...</th>\n",
       "      <th>Com_Arabe</th>\n",
       "      <th>Cer_Arabe</th>\n",
       "      <th>Prov_Arabe</th>\n",
       "      <th>Reg_arabe</th>\n",
       "      <th>Code_COM_1</th>\n",
       "      <th>CODE_A</th>\n",
       "      <th>Shape_Leng</th>\n",
       "      <th>geometry</th>\n",
       "      <th>NN</th>\n",
       "      <th>NN_dist</th>\n",
       "    </tr>\n",
       "  </thead>\n",
       "  <tbody>\n",
       "    <tr>\n",
       "      <th>0</th>\n",
       "      <td>846814.4513</td>\n",
       "      <td>3.461967e+06</td>\n",
       "      <td>4642</td>\n",
       "      <td>OUARZAZATE</td>\n",
       "      <td>401</td>\n",
       "      <td>BOUMALNE DADES</td>\n",
       "      <td>401.05</td>\n",
       "      <td>AIT EL FARSI</td>\n",
       "      <td>401.05.01</td>\n",
       "      <td>OUEDICHEN</td>\n",
       "      <td>...</td>\n",
       "      <td>NaN</td>\n",
       "      <td>NaN</td>\n",
       "      <td>NaN</td>\n",
       "      <td>NaN</td>\n",
       "      <td>1</td>\n",
       "      <td>04.401.05.01</td>\n",
       "      <td>115992.504936</td>\n",
       "      <td>POINT (-5.35912 31.24042)</td>\n",
       "      <td>6914924272</td>\n",
       "      <td>0.081365</td>\n",
       "    </tr>\n",
       "    <tr>\n",
       "      <th>1</th>\n",
       "      <td>851811.8074</td>\n",
       "      <td>3.456718e+06</td>\n",
       "      <td>6455</td>\n",
       "      <td>OUARZAZATE</td>\n",
       "      <td>401</td>\n",
       "      <td>BOUMALNE DADES</td>\n",
       "      <td>401.05</td>\n",
       "      <td>AIT EL FARSI</td>\n",
       "      <td>401.05.01</td>\n",
       "      <td>OUEDICHEN</td>\n",
       "      <td>...</td>\n",
       "      <td>NaN</td>\n",
       "      <td>NaN</td>\n",
       "      <td>NaN</td>\n",
       "      <td>NaN</td>\n",
       "      <td>1</td>\n",
       "      <td>04.401.05.01</td>\n",
       "      <td>115992.504936</td>\n",
       "      <td>POINT (-5.30858 31.19167)</td>\n",
       "      <td>2422205506</td>\n",
       "      <td>0.056640</td>\n",
       "    </tr>\n",
       "    <tr>\n",
       "      <th>2</th>\n",
       "      <td>850772.0843</td>\n",
       "      <td>3.476372e+06</td>\n",
       "      <td>11413</td>\n",
       "      <td>OUARZAZATE</td>\n",
       "      <td>401</td>\n",
       "      <td>BOUMALNE DADES</td>\n",
       "      <td>401.05</td>\n",
       "      <td>AIT EL FARSI</td>\n",
       "      <td>401.05.01</td>\n",
       "      <td>OUEDICHEN</td>\n",
       "      <td>...</td>\n",
       "      <td>NaN</td>\n",
       "      <td>NaN</td>\n",
       "      <td>NaN</td>\n",
       "      <td>NaN</td>\n",
       "      <td>1</td>\n",
       "      <td>04.401.05.01</td>\n",
       "      <td>115992.504936</td>\n",
       "      <td>POINT (-5.31259 31.36894)</td>\n",
       "      <td>3526595200</td>\n",
       "      <td>0.019169</td>\n",
       "    </tr>\n",
       "    <tr>\n",
       "      <th>3</th>\n",
       "      <td>857317.9017</td>\n",
       "      <td>3.466820e+06</td>\n",
       "      <td>19798</td>\n",
       "      <td>OUARZAZATE</td>\n",
       "      <td>401</td>\n",
       "      <td>BOUMALNE DADES</td>\n",
       "      <td>401.05</td>\n",
       "      <td>AIT EL FARSI</td>\n",
       "      <td>401.05.01</td>\n",
       "      <td>OUEDICHEN</td>\n",
       "      <td>...</td>\n",
       "      <td>NaN</td>\n",
       "      <td>NaN</td>\n",
       "      <td>NaN</td>\n",
       "      <td>NaN</td>\n",
       "      <td>1</td>\n",
       "      <td>04.401.05.01</td>\n",
       "      <td>115992.504936</td>\n",
       "      <td>POINT (-5.24732 31.28095)</td>\n",
       "      <td>6908244910</td>\n",
       "      <td>0.055522</td>\n",
       "    </tr>\n",
       "    <tr>\n",
       "      <th>4</th>\n",
       "      <td>853808.5600</td>\n",
       "      <td>3.476155e+06</td>\n",
       "      <td>21798</td>\n",
       "      <td>OUARZAZATE</td>\n",
       "      <td>401</td>\n",
       "      <td>BOUMALNE DADES</td>\n",
       "      <td>401.05</td>\n",
       "      <td>AIT EL FARSI</td>\n",
       "      <td>401.05.01</td>\n",
       "      <td>OUEDICHEN</td>\n",
       "      <td>...</td>\n",
       "      <td>NaN</td>\n",
       "      <td>NaN</td>\n",
       "      <td>NaN</td>\n",
       "      <td>NaN</td>\n",
       "      <td>1</td>\n",
       "      <td>04.401.05.01</td>\n",
       "      <td>115992.504936</td>\n",
       "      <td>POINT (-5.28080 31.36607)</td>\n",
       "      <td>3526595185</td>\n",
       "      <td>0.006065</td>\n",
       "    </tr>\n",
       "  </tbody>\n",
       "</table>\n",
       "<p>5 rows × 60 columns</p>\n",
       "</div>"
      ],
      "text/plain": [
       "             X             Y  FID_1    PROVINCE  CODE_PRO          CERCLE  \\\n",
       "0  846814.4513  3.461967e+06   4642  OUARZAZATE       401  BOUMALNE DADES   \n",
       "1  851811.8074  3.456718e+06   6455  OUARZAZATE       401  BOUMALNE DADES   \n",
       "2  850772.0843  3.476372e+06  11413  OUARZAZATE       401  BOUMALNE DADES   \n",
       "3  857317.9017  3.466820e+06  19798  OUARZAZATE       401  BOUMALNE DADES   \n",
       "4  853808.5600  3.476155e+06  21798  OUARZAZATE       401  BOUMALNE DADES   \n",
       "\n",
       "   CODE_CER       COMMUNE   CODE_COM   FRACTION  ...  Com_Arabe Cer_Arabe  \\\n",
       "0    401.05  AIT EL FARSI  401.05.01  OUEDICHEN  ...        NaN       NaN   \n",
       "1    401.05  AIT EL FARSI  401.05.01  OUEDICHEN  ...        NaN       NaN   \n",
       "2    401.05  AIT EL FARSI  401.05.01  OUEDICHEN  ...        NaN       NaN   \n",
       "3    401.05  AIT EL FARSI  401.05.01  OUEDICHEN  ...        NaN       NaN   \n",
       "4    401.05  AIT EL FARSI  401.05.01  OUEDICHEN  ...        NaN       NaN   \n",
       "\n",
       "   Prov_Arabe Reg_arabe Code_COM_1        CODE_A     Shape_Leng  \\\n",
       "0         NaN       NaN          1  04.401.05.01  115992.504936   \n",
       "1         NaN       NaN          1  04.401.05.01  115992.504936   \n",
       "2         NaN       NaN          1  04.401.05.01  115992.504936   \n",
       "3         NaN       NaN          1  04.401.05.01  115992.504936   \n",
       "4         NaN       NaN          1  04.401.05.01  115992.504936   \n",
       "\n",
       "                    geometry          NN   NN_dist  \n",
       "0  POINT (-5.35912 31.24042)  6914924272  0.081365  \n",
       "1  POINT (-5.30858 31.19167)  2422205506  0.056640  \n",
       "2  POINT (-5.31259 31.36894)  3526595200  0.019169  \n",
       "3  POINT (-5.24732 31.28095)  6908244910  0.055522  \n",
       "4  POINT (-5.28080 31.36607)  3526595185  0.006065  \n",
       "\n",
       "[5 rows x 60 columns]"
      ]
     },
     "execution_count": 24,
     "metadata": {},
     "output_type": "execute_result"
    }
   ],
   "source": [
    "villages_snap.head()"
   ]
  },
  {
   "cell_type": "code",
   "execution_count": null,
   "metadata": {},
   "outputs": [],
   "source": []
  }
 ],
 "metadata": {
  "kernelspec": {
   "display_name": "Python 3",
   "language": "python",
   "name": "python3"
  },
  "language_info": {
   "codemirror_mode": {
    "name": "ipython",
    "version": 3
   },
   "file_extension": ".py",
   "mimetype": "text/x-python",
   "name": "python",
   "nbconvert_exporter": "python",
   "pygments_lexer": "ipython3",
   "version": "3.6.9"
  }
 },
 "nbformat": 4,
 "nbformat_minor": 4
}
